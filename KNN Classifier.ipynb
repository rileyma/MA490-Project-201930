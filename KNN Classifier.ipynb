{
 "cells": [
  {
   "cell_type": "code",
   "execution_count": 32,
   "metadata": {},
   "outputs": [],
   "source": [
    "import numpy as np\n",
    "import pandas as pd\n",
    "from sklearn.neighbors import KNeighborsRegressor, KNeighborsClassifier \n",
    "from sklearn.model_selection import cross_validate, GridSearchCV\n",
    "import matplotlib.pyplot as plt\n",
    "%matplotlib inline\n",
    "from sklearn.metrics import mean_squared_error"
   ]
  },
  {
   "cell_type": "code",
   "execution_count": 33,
   "metadata": {},
   "outputs": [
    {
     "data": {
      "text/html": [
       "<div>\n",
       "<style scoped>\n",
       "    .dataframe tbody tr th:only-of-type {\n",
       "        vertical-align: middle;\n",
       "    }\n",
       "\n",
       "    .dataframe tbody tr th {\n",
       "        vertical-align: top;\n",
       "    }\n",
       "\n",
       "    .dataframe thead th {\n",
       "        text-align: right;\n",
       "    }\n",
       "</style>\n",
       "<table border=\"1\" class=\"dataframe\">\n",
       "  <thead>\n",
       "    <tr style=\"text-align: right;\">\n",
       "      <th></th>\n",
       "      <th>PC-1</th>\n",
       "      <th>PC-2</th>\n",
       "      <th>PC-3</th>\n",
       "      <th>PC-4</th>\n",
       "      <th>PC-5</th>\n",
       "      <th>PC-6</th>\n",
       "      <th>PC-7</th>\n",
       "      <th>PC-8</th>\n",
       "      <th>PC-9</th>\n",
       "      <th>PC-10</th>\n",
       "      <th>...</th>\n",
       "      <th>PC-14</th>\n",
       "      <th>PC-15</th>\n",
       "      <th>PC-16</th>\n",
       "      <th>PC-17</th>\n",
       "      <th>PC-18</th>\n",
       "      <th>PC-19</th>\n",
       "      <th>PC-20</th>\n",
       "      <th>Year</th>\n",
       "      <th>Round</th>\n",
       "      <th>School</th>\n",
       "    </tr>\n",
       "  </thead>\n",
       "  <tbody>\n",
       "    <tr>\n",
       "      <th>0</th>\n",
       "      <td>44.488013</td>\n",
       "      <td>13.451983</td>\n",
       "      <td>17.215303</td>\n",
       "      <td>15.516061</td>\n",
       "      <td>-1.392000</td>\n",
       "      <td>10.322120</td>\n",
       "      <td>-0.833705</td>\n",
       "      <td>5.512971</td>\n",
       "      <td>9.932289</td>\n",
       "      <td>0.306404</td>\n",
       "      <td>...</td>\n",
       "      <td>-1.952358</td>\n",
       "      <td>1.265309</td>\n",
       "      <td>2.922808</td>\n",
       "      <td>-0.524872</td>\n",
       "      <td>1.021296</td>\n",
       "      <td>-0.708134</td>\n",
       "      <td>-0.519683</td>\n",
       "      <td>1</td>\n",
       "      <td>0</td>\n",
       "      <td>Duke</td>\n",
       "    </tr>\n",
       "    <tr>\n",
       "      <th>1</th>\n",
       "      <td>2.141548</td>\n",
       "      <td>-8.058277</td>\n",
       "      <td>5.556478</td>\n",
       "      <td>-10.172859</td>\n",
       "      <td>9.089618</td>\n",
       "      <td>1.121069</td>\n",
       "      <td>7.020399</td>\n",
       "      <td>1.294642</td>\n",
       "      <td>5.613959</td>\n",
       "      <td>1.230927</td>\n",
       "      <td>...</td>\n",
       "      <td>-1.255755</td>\n",
       "      <td>-2.200641</td>\n",
       "      <td>-0.754523</td>\n",
       "      <td>0.183981</td>\n",
       "      <td>1.142544</td>\n",
       "      <td>-1.451628</td>\n",
       "      <td>0.074957</td>\n",
       "      <td>4</td>\n",
       "      <td>0</td>\n",
       "      <td>Connecticut</td>\n",
       "    </tr>\n",
       "    <tr>\n",
       "      <th>2</th>\n",
       "      <td>22.148220</td>\n",
       "      <td>3.858848</td>\n",
       "      <td>-4.308118</td>\n",
       "      <td>2.385105</td>\n",
       "      <td>-7.294075</td>\n",
       "      <td>-3.227119</td>\n",
       "      <td>-2.024828</td>\n",
       "      <td>-1.642130</td>\n",
       "      <td>1.684555</td>\n",
       "      <td>-0.747842</td>\n",
       "      <td>...</td>\n",
       "      <td>-0.422080</td>\n",
       "      <td>-0.253577</td>\n",
       "      <td>0.585204</td>\n",
       "      <td>0.350586</td>\n",
       "      <td>-1.001076</td>\n",
       "      <td>-1.680653</td>\n",
       "      <td>1.665078</td>\n",
       "      <td>10</td>\n",
       "      <td>0</td>\n",
       "      <td>Duke</td>\n",
       "    </tr>\n",
       "    <tr>\n",
       "      <th>3</th>\n",
       "      <td>8.911110</td>\n",
       "      <td>-11.482865</td>\n",
       "      <td>9.480825</td>\n",
       "      <td>-10.883555</td>\n",
       "      <td>-1.270769</td>\n",
       "      <td>1.009218</td>\n",
       "      <td>2.371393</td>\n",
       "      <td>-1.351887</td>\n",
       "      <td>-4.145126</td>\n",
       "      <td>-2.918149</td>\n",
       "      <td>...</td>\n",
       "      <td>0.485580</td>\n",
       "      <td>-1.087791</td>\n",
       "      <td>-2.293007</td>\n",
       "      <td>1.356170</td>\n",
       "      <td>1.099706</td>\n",
       "      <td>-1.668532</td>\n",
       "      <td>0.767453</td>\n",
       "      <td>0</td>\n",
       "      <td>0</td>\n",
       "      <td>Michigan State</td>\n",
       "    </tr>\n",
       "    <tr>\n",
       "      <th>4</th>\n",
       "      <td>28.242471</td>\n",
       "      <td>5.259683</td>\n",
       "      <td>10.714157</td>\n",
       "      <td>3.375753</td>\n",
       "      <td>-5.324363</td>\n",
       "      <td>-6.114989</td>\n",
       "      <td>6.478768</td>\n",
       "      <td>-4.972679</td>\n",
       "      <td>2.294216</td>\n",
       "      <td>-2.136309</td>\n",
       "      <td>...</td>\n",
       "      <td>1.349417</td>\n",
       "      <td>2.037605</td>\n",
       "      <td>2.970757</td>\n",
       "      <td>-3.331529</td>\n",
       "      <td>-3.134163</td>\n",
       "      <td>-2.338882</td>\n",
       "      <td>-0.178971</td>\n",
       "      <td>6</td>\n",
       "      <td>0</td>\n",
       "      <td>Florida</td>\n",
       "    </tr>\n",
       "  </tbody>\n",
       "</table>\n",
       "<p>5 rows × 23 columns</p>\n",
       "</div>"
      ],
      "text/plain": [
       "        PC-1       PC-2       PC-3       PC-4      PC-5       PC-6      PC-7  \\\n",
       "0  44.488013  13.451983  17.215303  15.516061 -1.392000  10.322120 -0.833705   \n",
       "1   2.141548  -8.058277   5.556478 -10.172859  9.089618   1.121069  7.020399   \n",
       "2  22.148220   3.858848  -4.308118   2.385105 -7.294075  -3.227119 -2.024828   \n",
       "3   8.911110 -11.482865   9.480825 -10.883555 -1.270769   1.009218  2.371393   \n",
       "4  28.242471   5.259683  10.714157   3.375753 -5.324363  -6.114989  6.478768   \n",
       "\n",
       "       PC-8      PC-9     PC-10       ...           PC-14     PC-15     PC-16  \\\n",
       "0  5.512971  9.932289  0.306404       ...       -1.952358  1.265309  2.922808   \n",
       "1  1.294642  5.613959  1.230927       ...       -1.255755 -2.200641 -0.754523   \n",
       "2 -1.642130  1.684555 -0.747842       ...       -0.422080 -0.253577  0.585204   \n",
       "3 -1.351887 -4.145126 -2.918149       ...        0.485580 -1.087791 -2.293007   \n",
       "4 -4.972679  2.294216 -2.136309       ...        1.349417  2.037605  2.970757   \n",
       "\n",
       "      PC-17     PC-18     PC-19     PC-20  Year  Round          School  \n",
       "0 -0.524872  1.021296 -0.708134 -0.519683     1      0            Duke  \n",
       "1  0.183981  1.142544 -1.451628  0.074957     4      0     Connecticut  \n",
       "2  0.350586 -1.001076 -1.680653  1.665078    10      0            Duke  \n",
       "3  1.356170  1.099706 -1.668532  0.767453     0      0  Michigan State  \n",
       "4 -3.331529 -3.134163 -2.338882 -0.178971     6      0         Florida  \n",
       "\n",
       "[5 rows x 23 columns]"
      ]
     },
     "execution_count": 33,
     "metadata": {},
     "output_type": "execute_result"
    }
   ],
   "source": [
    "df = pd.read_csv('./data/PCA_Output.csv').drop('Unnamed: 0', axis=1)\n",
    "df.head()"
   ]
  },
  {
   "cell_type": "code",
   "execution_count": 43,
   "metadata": {},
   "outputs": [],
   "source": [
    "df_test = df.sample(frac=.2, replace=False).copy()\n",
    "df_train = df.drop(df_test.index).copy()\n",
    "\n",
    "features_train = df_train.drop(['Year', 'Round', 'School'], axis=1)\n",
    "features_test = df_test.drop(['Year', 'Round', 'School'], axis=1)\n",
    "\n",
    "features_train = (features_train - features_train.mean())/features_train.std()\n",
    "features_test = (features_test - features_test.mean())/features_test.std()\n",
    "\n",
    "targets_train = df_train.Round\n",
    "targets_test = df_test.Round"
   ]
  },
  {
   "cell_type": "code",
   "execution_count": 44,
   "metadata": {},
   "outputs": [],
   "source": [
    "knn = KNeighborsRegressor(n_neighbors = 5)\n",
    "knn.fit(features_train, targets_train)\n",
    "target_predicted = knn.predict(features_test)\n",
    "RMSE_test = np.sqrt(mean_squared_error(targets_test, target_predicted))"
   ]
  },
  {
   "cell_type": "code",
   "execution_count": 45,
   "metadata": {},
   "outputs": [
    {
     "name": "stdout",
     "output_type": "stream",
     "text": [
      "2.306906626159408\n",
      "-0.1336971830985918\n"
     ]
    }
   ],
   "source": [
    "print(RMSE_test)\n",
    "print(knn.score(features_test, targets_test))"
   ]
  },
  {
   "cell_type": "code",
   "execution_count": 46,
   "metadata": {},
   "outputs": [],
   "source": [
    "knn = KNeighborsClassifier(n_neighbors = 5)\n",
    "knn.fit(features_train, targets_train)\n",
    "target_predicted = knn.predict(features_test)\n",
    "RMSE_test = np.sqrt(mean_squared_error(targets_test, target_predicted))"
   ]
  },
  {
   "cell_type": "code",
   "execution_count": 47,
   "metadata": {},
   "outputs": [
    {
     "name": "stdout",
     "output_type": "stream",
     "text": [
      "3.4575345919521117\n",
      "0.09090909090909091\n"
     ]
    }
   ],
   "source": [
    "print(RMSE_test)\n",
    "print(knn.score(features_test, targets_test))"
   ]
  },
  {
   "cell_type": "code",
   "execution_count": null,
   "metadata": {},
   "outputs": [],
   "source": []
  },
  {
   "cell_type": "code",
   "execution_count": 48,
   "metadata": {},
   "outputs": [
    {
     "name": "stdout",
     "output_type": "stream",
     "text": [
      "{'n_neighbors': 1} 0.26666666666666666\n"
     ]
    },
    {
     "data": {
      "text/plain": [
       "0.22727272727272727"
      ]
     },
     "execution_count": 48,
     "metadata": {},
     "output_type": "execute_result"
    }
   ],
   "source": [
    "grid = {'n_neighbors': np.arange(1, 50)}\n",
    "\n",
    "knn = KNeighborsClassifier()\n",
    "knnCV = GridSearchCV(knn, param_grid=grid, return_train_score=True)\n",
    "knnCV.fit(features_train, targets_train)\n",
    "\n",
    "print(knnCV.best_params_, knnCV.best_score_)\n",
    "\n",
    "knnCV.score(features_test, targets_test)"
   ]
  },
  {
   "cell_type": "code",
   "execution_count": 49,
   "metadata": {},
   "outputs": [
    {
     "name": "stdout",
     "output_type": "stream",
     "text": [
      "2.1363636363636362\n"
     ]
    }
   ],
   "source": [
    "pred = knnCV.predict(features_test)\n",
    "\n",
    "print(np.mean(abs(pred - targets_test)))"
   ]
  },
  {
   "cell_type": "code",
   "execution_count": 41,
   "metadata": {},
   "outputs": [
    {
     "name": "stdout",
     "output_type": "stream",
     "text": [
      "{'n_neighbors': 16} -11.75229614672896\n"
     ]
    },
    {
     "data": {
      "text/plain": [
       "0.12139423076923074"
      ]
     },
     "execution_count": 41,
     "metadata": {},
     "output_type": "execute_result"
    }
   ],
   "source": [
    "grid = {'n_neighbors': np.arange(1, 50)}\n",
    "\n",
    "knn = KNeighborsRegressor()\n",
    "knnCV = GridSearchCV(knn, param_grid=grid, return_train_score=True)\n",
    "knnCV.fit(features_train, targets_train)\n",
    "\n",
    "print(knnCV.best_params_, knnCV.best_score_)\n",
    "\n",
    "knnCV.score(features_test, targets_test)"
   ]
  },
  {
   "cell_type": "code",
   "execution_count": 42,
   "metadata": {},
   "outputs": [
    {
     "name": "stdout",
     "output_type": "stream",
     "text": [
      "1.9090909090909092\n"
     ]
    }
   ],
   "source": [
    "pred = knnCV.predict(features_test)\n",
    "\n",
    "print(np.mean(abs(pred - targets_test)))"
   ]
  },
  {
   "cell_type": "markdown",
   "metadata": {},
   "source": [
    "Classifier: 27, .47, 1.02"
   ]
  },
  {
   "cell_type": "code",
   "execution_count": null,
   "metadata": {},
   "outputs": [],
   "source": []
  },
  {
   "cell_type": "code",
   "execution_count": null,
   "metadata": {},
   "outputs": [],
   "source": []
  }
 ],
 "metadata": {
  "kernelspec": {
   "display_name": "Python 3",
   "language": "python",
   "name": "python3"
  },
  "language_info": {
   "codemirror_mode": {
    "name": "ipython",
    "version": 3
   },
   "file_extension": ".py",
   "mimetype": "text/x-python",
   "name": "python",
   "nbconvert_exporter": "python",
   "pygments_lexer": "ipython3",
   "version": "3.7.0"
  }
 },
 "nbformat": 4,
 "nbformat_minor": 2
}
