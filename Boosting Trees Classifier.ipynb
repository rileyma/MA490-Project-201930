{
 "cells": [
  {
   "cell_type": "code",
   "execution_count": 88,
   "metadata": {},
   "outputs": [],
   "source": [
    "import numpy as np\n",
    "import pandas as pd\n",
    "from sklearn.model_selection import GridSearchCV\n",
    "from sklearn.metrics import mean_squared_error, r2_score\n",
    "from sklearn.tree import DecisionTreeRegressor\n",
    "from sklearn.ensemble import GradientBoostingRegressor, GradientBoostingClassifier\n",
    "import matplotlib as plt"
   ]
  },
  {
   "cell_type": "code",
   "execution_count": 89,
   "metadata": {},
   "outputs": [
    {
     "data": {
      "text/html": [
       "<div>\n",
       "<style scoped>\n",
       "    .dataframe tbody tr th:only-of-type {\n",
       "        vertical-align: middle;\n",
       "    }\n",
       "\n",
       "    .dataframe tbody tr th {\n",
       "        vertical-align: top;\n",
       "    }\n",
       "\n",
       "    .dataframe thead th {\n",
       "        text-align: right;\n",
       "    }\n",
       "</style>\n",
       "<table border=\"1\" class=\"dataframe\">\n",
       "  <thead>\n",
       "    <tr style=\"text-align: right;\">\n",
       "      <th></th>\n",
       "      <th>PC-1</th>\n",
       "      <th>PC-2</th>\n",
       "      <th>PC-3</th>\n",
       "      <th>PC-4</th>\n",
       "      <th>PC-5</th>\n",
       "      <th>PC-6</th>\n",
       "      <th>PC-7</th>\n",
       "      <th>PC-8</th>\n",
       "      <th>PC-9</th>\n",
       "      <th>PC-10</th>\n",
       "      <th>...</th>\n",
       "      <th>PC-14</th>\n",
       "      <th>PC-15</th>\n",
       "      <th>PC-16</th>\n",
       "      <th>PC-17</th>\n",
       "      <th>PC-18</th>\n",
       "      <th>PC-19</th>\n",
       "      <th>PC-20</th>\n",
       "      <th>Year</th>\n",
       "      <th>Round</th>\n",
       "      <th>School</th>\n",
       "    </tr>\n",
       "  </thead>\n",
       "  <tbody>\n",
       "    <tr>\n",
       "      <th>0</th>\n",
       "      <td>6.076648</td>\n",
       "      <td>-1.976649</td>\n",
       "      <td>-2.848498</td>\n",
       "      <td>1.619673</td>\n",
       "      <td>-1.499366</td>\n",
       "      <td>-0.361836</td>\n",
       "      <td>1.019153</td>\n",
       "      <td>1.434457</td>\n",
       "      <td>0.714081</td>\n",
       "      <td>0.811379</td>\n",
       "      <td>...</td>\n",
       "      <td>0.688366</td>\n",
       "      <td>-0.304890</td>\n",
       "      <td>-0.281731</td>\n",
       "      <td>-0.205803</td>\n",
       "      <td>-0.140139</td>\n",
       "      <td>0.340214</td>\n",
       "      <td>-0.099955</td>\n",
       "      <td>0</td>\n",
       "      <td>6</td>\n",
       "      <td>Appalachian State</td>\n",
       "    </tr>\n",
       "    <tr>\n",
       "      <th>1</th>\n",
       "      <td>-5.397574</td>\n",
       "      <td>-1.225701</td>\n",
       "      <td>-2.640536</td>\n",
       "      <td>-0.686919</td>\n",
       "      <td>-2.231943</td>\n",
       "      <td>1.268349</td>\n",
       "      <td>-0.970858</td>\n",
       "      <td>0.854973</td>\n",
       "      <td>0.483640</td>\n",
       "      <td>0.945111</td>\n",
       "      <td>...</td>\n",
       "      <td>0.661443</td>\n",
       "      <td>0.159350</td>\n",
       "      <td>0.994632</td>\n",
       "      <td>0.590591</td>\n",
       "      <td>0.674845</td>\n",
       "      <td>0.279921</td>\n",
       "      <td>-0.757373</td>\n",
       "      <td>0</td>\n",
       "      <td>5</td>\n",
       "      <td>Arizona</td>\n",
       "    </tr>\n",
       "    <tr>\n",
       "      <th>2</th>\n",
       "      <td>-0.459077</td>\n",
       "      <td>-0.226509</td>\n",
       "      <td>-0.177002</td>\n",
       "      <td>-0.025225</td>\n",
       "      <td>-2.348304</td>\n",
       "      <td>-2.840060</td>\n",
       "      <td>-1.581769</td>\n",
       "      <td>-1.759809</td>\n",
       "      <td>0.738214</td>\n",
       "      <td>0.328368</td>\n",
       "      <td>...</td>\n",
       "      <td>-0.694507</td>\n",
       "      <td>-0.067370</td>\n",
       "      <td>-0.248602</td>\n",
       "      <td>0.238970</td>\n",
       "      <td>-0.456775</td>\n",
       "      <td>0.480758</td>\n",
       "      <td>-0.203236</td>\n",
       "      <td>0</td>\n",
       "      <td>6</td>\n",
       "      <td>Arkansas</td>\n",
       "    </tr>\n",
       "    <tr>\n",
       "      <th>3</th>\n",
       "      <td>0.737941</td>\n",
       "      <td>-2.735202</td>\n",
       "      <td>-1.689384</td>\n",
       "      <td>-1.009387</td>\n",
       "      <td>-1.348711</td>\n",
       "      <td>-2.272617</td>\n",
       "      <td>-0.260527</td>\n",
       "      <td>0.004799</td>\n",
       "      <td>-0.184886</td>\n",
       "      <td>1.096526</td>\n",
       "      <td>...</td>\n",
       "      <td>0.271134</td>\n",
       "      <td>0.544804</td>\n",
       "      <td>-0.797072</td>\n",
       "      <td>-0.432104</td>\n",
       "      <td>-0.827898</td>\n",
       "      <td>0.256052</td>\n",
       "      <td>-0.232796</td>\n",
       "      <td>0</td>\n",
       "      <td>5</td>\n",
       "      <td>Auburn</td>\n",
       "    </tr>\n",
       "    <tr>\n",
       "      <th>4</th>\n",
       "      <td>3.519914</td>\n",
       "      <td>2.074051</td>\n",
       "      <td>-0.954414</td>\n",
       "      <td>-0.144123</td>\n",
       "      <td>-1.547389</td>\n",
       "      <td>-1.325878</td>\n",
       "      <td>1.202000</td>\n",
       "      <td>2.277089</td>\n",
       "      <td>-1.031561</td>\n",
       "      <td>-0.126343</td>\n",
       "      <td>...</td>\n",
       "      <td>-1.376886</td>\n",
       "      <td>-1.040308</td>\n",
       "      <td>0.260123</td>\n",
       "      <td>-0.111515</td>\n",
       "      <td>-0.763786</td>\n",
       "      <td>0.158143</td>\n",
       "      <td>0.004584</td>\n",
       "      <td>0</td>\n",
       "      <td>6</td>\n",
       "      <td>Ball State</td>\n",
       "    </tr>\n",
       "  </tbody>\n",
       "</table>\n",
       "<p>5 rows × 23 columns</p>\n",
       "</div>"
      ],
      "text/plain": [
       "       PC-1      PC-2      PC-3      PC-4      PC-5      PC-6      PC-7  \\\n",
       "0  6.076648 -1.976649 -2.848498  1.619673 -1.499366 -0.361836  1.019153   \n",
       "1 -5.397574 -1.225701 -2.640536 -0.686919 -2.231943  1.268349 -0.970858   \n",
       "2 -0.459077 -0.226509 -0.177002 -0.025225 -2.348304 -2.840060 -1.581769   \n",
       "3  0.737941 -2.735202 -1.689384 -1.009387 -1.348711 -2.272617 -0.260527   \n",
       "4  3.519914  2.074051 -0.954414 -0.144123 -1.547389 -1.325878  1.202000   \n",
       "\n",
       "       PC-8      PC-9     PC-10        ...             PC-14     PC-15  \\\n",
       "0  1.434457  0.714081  0.811379        ...          0.688366 -0.304890   \n",
       "1  0.854973  0.483640  0.945111        ...          0.661443  0.159350   \n",
       "2 -1.759809  0.738214  0.328368        ...         -0.694507 -0.067370   \n",
       "3  0.004799 -0.184886  1.096526        ...          0.271134  0.544804   \n",
       "4  2.277089 -1.031561 -0.126343        ...         -1.376886 -1.040308   \n",
       "\n",
       "      PC-16     PC-17     PC-18     PC-19     PC-20  Year  Round  \\\n",
       "0 -0.281731 -0.205803 -0.140139  0.340214 -0.099955     0      6   \n",
       "1  0.994632  0.590591  0.674845  0.279921 -0.757373     0      5   \n",
       "2 -0.248602  0.238970 -0.456775  0.480758 -0.203236     0      6   \n",
       "3 -0.797072 -0.432104 -0.827898  0.256052 -0.232796     0      5   \n",
       "4  0.260123 -0.111515 -0.763786  0.158143  0.004584     0      6   \n",
       "\n",
       "              School  \n",
       "0  Appalachian State  \n",
       "1            Arizona  \n",
       "2           Arkansas  \n",
       "3             Auburn  \n",
       "4         Ball State  \n",
       "\n",
       "[5 rows x 23 columns]"
      ]
     },
     "execution_count": 89,
     "metadata": {},
     "output_type": "execute_result"
    }
   ],
   "source": [
    "df = pd.read_csv('./data/PCA_Output.csv').drop('Unnamed: 0', axis=1)\n",
    "df.head()"
   ]
  },
  {
   "cell_type": "code",
   "execution_count": 90,
   "metadata": {},
   "outputs": [],
   "source": [
    "df_test = df.sample(frac=.2, replace=False).copy()\n",
    "df_train = df.drop(df_test.index).copy()\n",
    "\n",
    "features_train = df_train.drop(['Year', 'Round', 'School'], axis=1)\n",
    "features_test = df_test.drop(['Year', 'Round', 'School'], axis=1)\n",
    "\n",
    "targets_train = df_train.Round\n",
    "targets_test = df_test.Round"
   ]
  },
  {
   "cell_type": "code",
   "execution_count": 91,
   "metadata": {},
   "outputs": [],
   "source": [
    "gbt = GradientBoostingRegressor(max_depth=3, n_estimators=5000, learning_rate=.01)\n",
    "gbt.fit(features_train, targets_train)\n",
    "\n",
    "training = []\n",
    "\n",
    "for target_train_predict in gbt.staged_predict(features_train):\n",
    "    R2_train = r2_score(targets_train, target_train_predict)\n",
    "    training.append(R2_train)\n",
    "    \n",
    "testing = []\n",
    "RMSE_test = []\n",
    "for target_test_predict in gbt.staged_predict(features_test):\n",
    "    R2_test = r2_score(targets_test, target_test_predict)\n",
    "    testing.append(R2_test)\n",
    "    RMSE_test.append(np.sqrt(mean_squared_error(targets_test, target_test_predict)))\n",
    "    \n",
    "res = pd.DataFrame()\n",
    "res['test'] = testing\n",
    "res['train'] = training\n",
    "res['RMSE'] = RMSE_test"
   ]
  },
  {
   "cell_type": "code",
   "execution_count": 92,
   "metadata": {},
   "outputs": [
    {
     "data": {
      "text/plain": [
       "<matplotlib.axes._subplots.AxesSubplot at 0x2dd008a6b38>"
      ]
     },
     "execution_count": 92,
     "metadata": {},
     "output_type": "execute_result"
    },
    {
     "data": {
      "image/png": "[encoded data removed]",
      "text/plain": [
       "<Figure size 432x288 with 1 Axes>"
      ]
     },
     "metadata": {
      "needs_background": "light"
     },
     "output_type": "display_data"
    }
   ],
   "source": [
    "res.plot()"
   ]
  },
  {
   "cell_type": "code",
   "execution_count": 93,
   "metadata": {},
   "outputs": [
    {
     "name": "stdout",
     "output_type": "stream",
     "text": [
      "236 0.17959950098779787\n",
      "236 1.283428291759503\n"
     ]
    }
   ],
   "source": [
    "print(res.test.idxmax(), res.test.max())\n",
    "print(res.RMSE.idxmin(), res.RMSE.min())"
   ]
  },
  {
   "cell_type": "code",
   "execution_count": 94,
   "metadata": {},
   "outputs": [],
   "source": [
    "gbt = GradientBoostingClassifier(max_depth=3, n_estimators=5000, learning_rate=.01)\n",
    "gbt.fit(features_train, targets_train)\n",
    "\n",
    "training = []\n",
    "\n",
    "for target_train_predict in gbt.staged_predict(features_train):\n",
    "    R2_train = r2_score(targets_train, target_train_predict)\n",
    "    training.append(R2_train)\n",
    "    \n",
    "testing = []\n",
    "RMSE_test = []\n",
    "for target_test_predict in gbt.staged_predict(features_test):\n",
    "    R2_test = r2_score(targets_test, target_test_predict)\n",
    "    testing.append(R2_test)\n",
    "    RMSE_test.append(np.sqrt(mean_squared_error(targets_test, target_test_predict)))\n",
    "    \n",
    "res = pd.DataFrame()\n",
    "res['test'] = testing\n",
    "res['train'] = training\n",
    "res['RMSE'] = RMSE_test"
   ]
  },
  {
   "cell_type": "code",
   "execution_count": 95,
   "metadata": {},
   "outputs": [
    {
     "data": {
      "text/plain": [
       "<matplotlib.axes._subplots.AxesSubplot at 0x2dd05471240>"
      ]
     },
     "execution_count": 95,
     "metadata": {},
     "output_type": "execute_result"
    },
    {
     "data": {
      "image/png": "[encoded data removed]",
      "text/plain": [
       "<Figure size 432x288 with 1 Axes>"
      ]
     },
     "metadata": {
      "needs_background": "light"
     },
     "output_type": "display_data"
    }
   ],
   "source": [
    "res.plot()"
   ]
  },
  {
   "cell_type": "code",
   "execution_count": 96,
   "metadata": {},
   "outputs": [
    {
     "name": "stdout",
     "output_type": "stream",
     "text": [
      "1366 -0.22837888431299147\n",
      "1366 1.5704525600995771\n"
     ]
    }
   ],
   "source": [
    "print(res.test.idxmax(), res.test.max())\n",
    "print(res.RMSE.idxmin(), res.RMSE.min())"
   ]
  },
  {
   "cell_type": "code",
   "execution_count": null,
   "metadata": {},
   "outputs": [],
   "source": []
  }
 ],
 "metadata": {
  "kernelspec": {
   "display_name": "Python 3",
   "language": "python",
   "name": "python3"
  },
  "language_info": {
   "codemirror_mode": {
    "name": "ipython",
    "version": 3
   },
   "file_extension": ".py",
   "mimetype": "text/x-python",
   "name": "python",
   "nbconvert_exporter": "python",
   "pygments_lexer": "ipython3",
   "version": "3.7.0"
  }
 },
 "nbformat": 4,
 "nbformat_minor": 2
}
