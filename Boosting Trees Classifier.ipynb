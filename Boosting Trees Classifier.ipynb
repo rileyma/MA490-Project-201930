{
 "cells": [
  {
   "cell_type": "code",
   "execution_count": 13,
   "metadata": {},
   "outputs": [],
   "source": [
    "import numpy as np\n",
    "import pandas as pd\n",
    "from sklearn.model_selection import GridSearchCV\n",
    "from sklearn.metrics import mean_squared_error, r2_score\n",
    "from sklearn.tree import DecisionTreeRegressor\n",
    "from sklearn.ensemble import GradientBoostingRegressor, GradientBoostingClassifier\n",
    "import matplotlib as plt"
   ]
  },
  {
   "cell_type": "code",
   "execution_count": 14,
   "metadata": {},
   "outputs": [
    {
     "data": {
      "text/html": [
       "<div>\n",
       "<style scoped>\n",
       "    .dataframe tbody tr th:only-of-type {\n",
       "        vertical-align: middle;\n",
       "    }\n",
       "\n",
       "    .dataframe tbody tr th {\n",
       "        vertical-align: top;\n",
       "    }\n",
       "\n",
       "    .dataframe thead th {\n",
       "        text-align: right;\n",
       "    }\n",
       "</style>\n",
       "<table border=\"1\" class=\"dataframe\">\n",
       "  <thead>\n",
       "    <tr style=\"text-align: right;\">\n",
       "      <th></th>\n",
       "      <th>PC-1</th>\n",
       "      <th>PC-2</th>\n",
       "      <th>PC-3</th>\n",
       "      <th>PC-4</th>\n",
       "      <th>PC-5</th>\n",
       "      <th>PC-6</th>\n",
       "      <th>PC-7</th>\n",
       "      <th>PC-8</th>\n",
       "      <th>PC-9</th>\n",
       "      <th>PC-10</th>\n",
       "      <th>...</th>\n",
       "      <th>PC-14</th>\n",
       "      <th>PC-15</th>\n",
       "      <th>PC-16</th>\n",
       "      <th>PC-17</th>\n",
       "      <th>PC-18</th>\n",
       "      <th>PC-19</th>\n",
       "      <th>PC-20</th>\n",
       "      <th>Year</th>\n",
       "      <th>Round</th>\n",
       "      <th>School</th>\n",
       "    </tr>\n",
       "  </thead>\n",
       "  <tbody>\n",
       "    <tr>\n",
       "      <th>0</th>\n",
       "      <td>44.488013</td>\n",
       "      <td>13.451983</td>\n",
       "      <td>17.215303</td>\n",
       "      <td>15.516061</td>\n",
       "      <td>-1.392000</td>\n",
       "      <td>10.322120</td>\n",
       "      <td>-0.833705</td>\n",
       "      <td>5.512971</td>\n",
       "      <td>9.932289</td>\n",
       "      <td>0.306404</td>\n",
       "      <td>...</td>\n",
       "      <td>-1.952358</td>\n",
       "      <td>1.265309</td>\n",
       "      <td>2.922808</td>\n",
       "      <td>-0.524872</td>\n",
       "      <td>1.021296</td>\n",
       "      <td>-0.708134</td>\n",
       "      <td>-0.519683</td>\n",
       "      <td>1</td>\n",
       "      <td>0</td>\n",
       "      <td>Duke</td>\n",
       "    </tr>\n",
       "    <tr>\n",
       "      <th>1</th>\n",
       "      <td>2.141548</td>\n",
       "      <td>-8.058277</td>\n",
       "      <td>5.556478</td>\n",
       "      <td>-10.172859</td>\n",
       "      <td>9.089618</td>\n",
       "      <td>1.121069</td>\n",
       "      <td>7.020399</td>\n",
       "      <td>1.294642</td>\n",
       "      <td>5.613959</td>\n",
       "      <td>1.230927</td>\n",
       "      <td>...</td>\n",
       "      <td>-1.255755</td>\n",
       "      <td>-2.200641</td>\n",
       "      <td>-0.754523</td>\n",
       "      <td>0.183981</td>\n",
       "      <td>1.142544</td>\n",
       "      <td>-1.451628</td>\n",
       "      <td>0.074957</td>\n",
       "      <td>4</td>\n",
       "      <td>0</td>\n",
       "      <td>Connecticut</td>\n",
       "    </tr>\n",
       "    <tr>\n",
       "      <th>2</th>\n",
       "      <td>22.148220</td>\n",
       "      <td>3.858848</td>\n",
       "      <td>-4.308118</td>\n",
       "      <td>2.385105</td>\n",
       "      <td>-7.294075</td>\n",
       "      <td>-3.227119</td>\n",
       "      <td>-2.024828</td>\n",
       "      <td>-1.642130</td>\n",
       "      <td>1.684555</td>\n",
       "      <td>-0.747842</td>\n",
       "      <td>...</td>\n",
       "      <td>-0.422080</td>\n",
       "      <td>-0.253577</td>\n",
       "      <td>0.585204</td>\n",
       "      <td>0.350586</td>\n",
       "      <td>-1.001076</td>\n",
       "      <td>-1.680653</td>\n",
       "      <td>1.665078</td>\n",
       "      <td>10</td>\n",
       "      <td>0</td>\n",
       "      <td>Duke</td>\n",
       "    </tr>\n",
       "    <tr>\n",
       "      <th>3</th>\n",
       "      <td>8.911110</td>\n",
       "      <td>-11.482865</td>\n",
       "      <td>9.480825</td>\n",
       "      <td>-10.883555</td>\n",
       "      <td>-1.270769</td>\n",
       "      <td>1.009218</td>\n",
       "      <td>2.371393</td>\n",
       "      <td>-1.351887</td>\n",
       "      <td>-4.145126</td>\n",
       "      <td>-2.918149</td>\n",
       "      <td>...</td>\n",
       "      <td>0.485580</td>\n",
       "      <td>-1.087791</td>\n",
       "      <td>-2.293007</td>\n",
       "      <td>1.356170</td>\n",
       "      <td>1.099706</td>\n",
       "      <td>-1.668532</td>\n",
       "      <td>0.767453</td>\n",
       "      <td>0</td>\n",
       "      <td>0</td>\n",
       "      <td>Michigan State</td>\n",
       "    </tr>\n",
       "    <tr>\n",
       "      <th>4</th>\n",
       "      <td>28.242471</td>\n",
       "      <td>5.259683</td>\n",
       "      <td>10.714157</td>\n",
       "      <td>3.375753</td>\n",
       "      <td>-5.324363</td>\n",
       "      <td>-6.114989</td>\n",
       "      <td>6.478768</td>\n",
       "      <td>-4.972679</td>\n",
       "      <td>2.294216</td>\n",
       "      <td>-2.136309</td>\n",
       "      <td>...</td>\n",
       "      <td>1.349417</td>\n",
       "      <td>2.037605</td>\n",
       "      <td>2.970757</td>\n",
       "      <td>-3.331529</td>\n",
       "      <td>-3.134163</td>\n",
       "      <td>-2.338882</td>\n",
       "      <td>-0.178971</td>\n",
       "      <td>6</td>\n",
       "      <td>0</td>\n",
       "      <td>Florida</td>\n",
       "    </tr>\n",
       "  </tbody>\n",
       "</table>\n",
       "<p>5 rows × 23 columns</p>\n",
       "</div>"
      ],
      "text/plain": [
       "        PC-1       PC-2       PC-3       PC-4      PC-5       PC-6      PC-7  \\\n",
       "0  44.488013  13.451983  17.215303  15.516061 -1.392000  10.322120 -0.833705   \n",
       "1   2.141548  -8.058277   5.556478 -10.172859  9.089618   1.121069  7.020399   \n",
       "2  22.148220   3.858848  -4.308118   2.385105 -7.294075  -3.227119 -2.024828   \n",
       "3   8.911110 -11.482865   9.480825 -10.883555 -1.270769   1.009218  2.371393   \n",
       "4  28.242471   5.259683  10.714157   3.375753 -5.324363  -6.114989  6.478768   \n",
       "\n",
       "       PC-8      PC-9     PC-10       ...           PC-14     PC-15     PC-16  \\\n",
       "0  5.512971  9.932289  0.306404       ...       -1.952358  1.265309  2.922808   \n",
       "1  1.294642  5.613959  1.230927       ...       -1.255755 -2.200641 -0.754523   \n",
       "2 -1.642130  1.684555 -0.747842       ...       -0.422080 -0.253577  0.585204   \n",
       "3 -1.351887 -4.145126 -2.918149       ...        0.485580 -1.087791 -2.293007   \n",
       "4 -4.972679  2.294216 -2.136309       ...        1.349417  2.037605  2.970757   \n",
       "\n",
       "      PC-17     PC-18     PC-19     PC-20  Year  Round          School  \n",
       "0 -0.524872  1.021296 -0.708134 -0.519683     1      0            Duke  \n",
       "1  0.183981  1.142544 -1.451628  0.074957     4      0     Connecticut  \n",
       "2  0.350586 -1.001076 -1.680653  1.665078    10      0            Duke  \n",
       "3  1.356170  1.099706 -1.668532  0.767453     0      0  Michigan State  \n",
       "4 -3.331529 -3.134163 -2.338882 -0.178971     6      0         Florida  \n",
       "\n",
       "[5 rows x 23 columns]"
      ]
     },
     "execution_count": 14,
     "metadata": {},
     "output_type": "execute_result"
    }
   ],
   "source": [
    "df = pd.read_csv('./data/PCA_Output.csv').drop('Unnamed: 0', axis=1)\n",
    "df.head()"
   ]
  },
  {
   "cell_type": "code",
   "execution_count": 15,
   "metadata": {},
   "outputs": [],
   "source": [
    "df_test = df.sample(frac=.2, replace=False).copy()\n",
    "df_train = df.drop(df_test.index).copy()\n",
    "\n",
    "features_train = df_train.drop(['Year', 'Round', 'School'], axis=1)\n",
    "features_test = df_test.drop(['Year', 'Round', 'School'], axis=1)\n",
    "\n",
    "targets_train = df_train.Round\n",
    "targets_test = df_test.Round"
   ]
  },
  {
   "cell_type": "code",
   "execution_count": 16,
   "metadata": {},
   "outputs": [],
   "source": [
    "gbt = GradientBoostingRegressor(max_depth=3, n_estimators=5000, learning_rate=.01)\n",
    "gbt.fit(features_train, targets_train)\n",
    "\n",
    "training = []\n",
    "\n",
    "for target_train_predict in gbt.staged_predict(features_train):\n",
    "    R2_train = r2_score(targets_train, target_train_predict)\n",
    "    training.append(R2_train)\n",
    "    \n",
    "testing = []\n",
    "RMSE_test = []\n",
    "for target_test_predict in gbt.staged_predict(features_test):\n",
    "    R2_test = r2_score(targets_test, target_test_predict)\n",
    "    testing.append(R2_test)\n",
    "    RMSE_test.append(np.sqrt(mean_squared_error(targets_test, target_test_predict)))\n",
    "    \n",
    "res = pd.DataFrame()\n",
    "res['test'] = testing\n",
    "res['train'] = training\n",
    "res['RMSE'] = RMSE_test"
   ]
  },
  {
   "cell_type": "code",
   "execution_count": 17,
   "metadata": {},
   "outputs": [
    {
     "data": {
      "text/plain": [
       "<matplotlib.axes._subplots.AxesSubplot at 0x172d974a080>"
      ]
     },
     "execution_count": 17,
     "metadata": {},
     "output_type": "execute_result"
    },
    {
     "data": {
      "image/png": "[encoded data removed]",
      "text/plain": [
       "<Figure size 432x288 with 1 Axes>"
      ]
     },
     "metadata": {
      "needs_background": "light"
     },
     "output_type": "display_data"
    }
   ],
   "source": [
    "res.plot()"
   ]
  },
  {
   "cell_type": "code",
   "execution_count": 18,
   "metadata": {},
   "outputs": [
    {
     "name": "stdout",
     "output_type": "stream",
     "text": [
      "19 -0.2549818525472265\n",
      "19 2.0526869663433724\n"
     ]
    }
   ],
   "source": [
    "print(res.test.idxmax(), res.test.max())\n",
    "print(res.RMSE.idxmin(), res.RMSE.min())"
   ]
  },
  {
   "cell_type": "code",
   "execution_count": 19,
   "metadata": {},
   "outputs": [],
   "source": [
    "gbt = GradientBoostingClassifier(max_depth=3, n_estimators=5000, learning_rate=.01)\n",
    "gbt.fit(features_train, targets_train)\n",
    "\n",
    "training = []\n",
    "\n",
    "for target_train_predict in gbt.staged_predict(features_train):\n",
    "    R2_train = r2_score(targets_train, target_train_predict)\n",
    "    training.append(R2_train)\n",
    "    \n",
    "testing = []\n",
    "RMSE_test = []\n",
    "for target_test_predict in gbt.staged_predict(features_test):\n",
    "    R2_test = r2_score(targets_test, target_test_predict)\n",
    "    testing.append(R2_test)\n",
    "    RMSE_test.append(np.sqrt(mean_squared_error(targets_test, target_test_predict)))\n",
    "    \n",
    "res = pd.DataFrame()\n",
    "res['test'] = testing\n",
    "res['train'] = training\n",
    "res['RMSE'] = RMSE_test"
   ]
  },
  {
   "cell_type": "code",
   "execution_count": 20,
   "metadata": {},
   "outputs": [
    {
     "data": {
      "text/plain": [
       "<matplotlib.axes._subplots.AxesSubplot at 0x172db7e8860>"
      ]
     },
     "execution_count": 20,
     "metadata": {},
     "output_type": "execute_result"
    },
    {
     "data": {
      "image/png": "[encoded data removed]",
      "text/plain": [
       "<Figure size 432x288 with 1 Axes>"
      ]
     },
     "metadata": {
      "needs_background": "light"
     },
     "output_type": "display_data"
    }
   ],
   "source": [
    "res.plot()"
   ]
  },
  {
   "cell_type": "code",
   "execution_count": 21,
   "metadata": {},
   "outputs": [
    {
     "name": "stdout",
     "output_type": "stream",
     "text": [
      "27 -0.12369230769230755\n",
      "27 1.9423509653837725\n"
     ]
    }
   ],
   "source": [
    "print(res.test.idxmax(), res.test.max())\n",
    "print(res.RMSE.idxmin(), res.RMSE.min())"
   ]
  },
  {
   "cell_type": "code",
   "execution_count": 24,
   "metadata": {},
   "outputs": [
    {
     "name": "stdout",
     "output_type": "stream",
     "text": [
      "{'learning_rate': 0.010000000000000002, 'max_depth': 1, 'n_estimators': 525} 0.2777777777777778\n",
      "0.18181818181818182\n",
      "2.1818181818181817\n"
     ]
    }
   ],
   "source": [
    "grid = {'max_depth': np.arange(1,3),\n",
    "       'n_estimators': [i*25 for i in np.arange(20,25)],\n",
    "       'learning_rate': [.1**i for i in np.arange(1,3)]}\n",
    "\n",
    "gbt = GradientBoostingClassifier()\n",
    "gbtCV = GridSearchCV(gbt, param_grid=grid, return_train_score=True, n_jobs=-1)\n",
    "gbtCV.fit(features_train, targets_train)\n",
    "\n",
    "print(gbtCV.best_params_, gbtCV.best_score_)\n",
    "\n",
    "print(gbtCV.score(features_test, targets_test))\n",
    "\n",
    "pred = gbtCV.predict(features_test)\n",
    "\n",
    "print(np.mean(abs(pred - targets_test)))"
   ]
  },
  {
   "cell_type": "markdown",
   "metadata": {},
   "source": [
    "learning_rate: .00005, 2, 750"
   ]
  },
  {
   "cell_type": "code",
   "execution_count": 23,
   "metadata": {},
   "outputs": [
    {
     "data": {
      "text/plain": [
       "array([3, 3, 3, 0, 0, 6, 3, 2, 1, 0, 3, 0, 3, 1, 1, 5, 6, 2, 2, 6, 5, 2],\n",
       "      dtype=int64)"
      ]
     },
     "execution_count": 23,
     "metadata": {},
     "output_type": "execute_result"
    }
   ],
   "source": [
    "pred"
   ]
  },
  {
   "cell_type": "code",
   "execution_count": null,
   "metadata": {},
   "outputs": [],
   "source": []
  },
  {
   "cell_type": "code",
   "execution_count": null,
   "metadata": {},
   "outputs": [],
   "source": []
  }
 ],
 "metadata": {
  "kernelspec": {
   "display_name": "Python 3",
   "language": "python",
   "name": "python3"
  },
  "language_info": {
   "codemirror_mode": {
    "name": "ipython",
    "version": 3
   },
   "file_extension": ".py",
   "mimetype": "text/x-python",
   "name": "python",
   "nbconvert_exporter": "python",
   "pygments_lexer": "ipython3",
   "version": "3.7.0"
  }
 },
 "nbformat": 4,
 "nbformat_minor": 2
}
